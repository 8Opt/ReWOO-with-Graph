{
 "cells": [
  {
   "cell_type": "code",
   "execution_count": 1,
   "metadata": {},
   "outputs": [
    {
     "data": {
      "text/plain": [
       "{'llm': {'provider': 'groq',\n",
       "  'settings': {'temperature': 1.0, 'max_tokens': 128}},\n",
       " 'tools': {'search': {'provider': 'tavily',\n",
       "   'settings': {'max_results': 5, 'search_depth': 'basic'}}}}"
      ]
     },
     "execution_count": 1,
     "metadata": {},
     "output_type": "execute_result"
    }
   ],
   "source": [
    "import os\n",
    "from dotenv import load_dotenv\n",
    "\n",
    "from src.utils import read_yaml\n",
    "\n",
    "\n",
    "load_dotenv()\n",
    "\n",
    "\n",
    "# os.environ['GOOGLE_API_KEY'] = os.getenv('GEMINI_API_KEY')\n",
    "os.environ['TAVILY_API_KEY'] = os.getenv(\"TAVILY_API_KEY\")\n",
    "os.environ['GROQ_API_KEY'] = os.getenv(\"GROQ_API_KEY\")\n",
    "\n",
    "config = read_yaml('config.yaml')\n",
    "config"
   ]
  },
  {
   "cell_type": "code",
   "execution_count": 2,
   "metadata": {},
   "outputs": [],
   "source": [
    "from src.nodes import Planner, Solver, Workers\n",
    "\n",
    "task = \"what is the hometown of the 2024 australian open winner\"\n",
    "\n",
    "planner = Planner(config=config['llm'])\n",
    "solver  = Solver(config=config['llm'])\n",
    "\n",
    "search_engine = Workers.call_engine(name=\"search\",\n",
    "                                            config=config['tools']['search'])\n",
    "llm_engine = Workers.call_engine(name=\"llm\", \n",
    "                                        config=config['llm'])\n",
    "\n",
    "regex_pattern = r\"Plan:\\s*(.+)\\s*(#E\\d+)\\s*=\\s*(\\w+)\\s*\\[([^\\]]+)\\]\""
   ]
  },
  {
   "cell_type": "code",
   "execution_count": 3,
   "metadata": {},
   "outputs": [
    {
     "name": "stdout",
     "output_type": "stream",
     "text": [
      "Plan: Use Tavily to find out who won the 2024 Australian Open. #E1 = Tavily[2024 Australian Open winner]\n",
      "Plan: Utilize LLM to determine the hometown of the tennis player who won the tournament. #E2 = LLM[What is the hometown of #E1?]\n"
     ]
    }
   ],
   "source": [
    "planning = planner.run(task)\n",
    "print(planning.content)"
   ]
  },
  {
   "cell_type": "code",
   "execution_count": 4,
   "metadata": {},
   "outputs": [
    {
     "data": {
      "text/plain": [
       "{'steps': [('Use Tavily to find out who won the 2024 Australian Open. ',\n",
       "   '#E1',\n",
       "   'Tavily',\n",
       "   '2024 Australian Open winner'),\n",
       "  ('Utilize LLM to determine the hometown of the tennis player who won the tournament. ',\n",
       "   '#E2',\n",
       "   'LLM',\n",
       "   'What is the hometown of #E1?')],\n",
       " 'plan_string': 'Plan: Use Tavily to find out who won the 2024 Australian Open. #E1 = Tavily[2024 Australian Open winner]\\nPlan: Utilize LLM to determine the hometown of the tennis player who won the tournament. #E2 = LLM[What is the hometown of #E1?]'}"
      ]
     },
     "execution_count": 4,
     "metadata": {},
     "output_type": "execute_result"
    }
   ],
   "source": [
    "import re\n",
    "\n",
    "matches = re.findall(regex_pattern, planning.content)\n",
    "temp_workers =  {\"steps\": matches, \"plan_string\": planning.content} # _, step_name, tool, tool_input \n",
    "temp_workers"
   ]
  },
  {
   "cell_type": "code",
   "execution_count": null,
   "metadata": {},
   "outputs": [],
   "source": []
  },
  {
   "cell_type": "code",
   "execution_count": null,
   "metadata": {},
   "outputs": [],
   "source": []
  }
 ],
 "metadata": {
  "kernelspec": {
   "display_name": "octo",
   "language": "python",
   "name": "python3"
  },
  "language_info": {
   "codemirror_mode": {
    "name": "ipython",
    "version": 3
   },
   "file_extension": ".py",
   "mimetype": "text/x-python",
   "name": "python",
   "nbconvert_exporter": "python",
   "pygments_lexer": "ipython3",
   "version": "3.10.14"
  }
 },
 "nbformat": 4,
 "nbformat_minor": 2
}
